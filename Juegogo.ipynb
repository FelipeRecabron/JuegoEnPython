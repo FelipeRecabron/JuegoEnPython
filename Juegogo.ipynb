{
 "cells": [
  {
   "cell_type": "code",
   "execution_count": null,
   "metadata": {},
   "outputs": [],
   "source": [
    "import random\n",
    "\n",
    "CifraMasBaja = 0\n",
    "CifraMasAlta = 10\n",
    "\n",
    "CantidadDeIntentos = 5\n",
    "\n",
    "\n",
    "nombre = input(\"Como te haces llamar (Nickname)?: \")\n",
    "print(f\"welcome to the skinny game jugador/a {nombre}\")\n",
    "\n",
    "print(f\"Adivina el codigo secreto que e generado entre el: {CifraMasBaja} y {CifraMasAlta}\")\n",
    "CodigoPorAdivinar = random.randint(CifraMasBaja, CifraMasAlta)\n",
    "for i in range(CantidadDeIntentos):\n",
    "\n",
    "    CantidadDeIntentos = CantidadDeIntentos - 1\n",
    "\n",
    "\n",
    "\n",
    "    Codigo = int(input(\"Que codigo crees que sea?: \"))\n",
    "\n",
    "\n",
    "    if Codigo == CodigoPorAdivinar:\n",
    "\n",
    "          print(f\"felicitacion {nombre}, has adivinado el numero secreto que era {CodigoPorAdivinar}, solo te quedaban {CantidadDeIntentos} intentos mas.\")\n",
    "          print(f\"Ganaste <3\")\n",
    "          break\n",
    "        \n",
    "    else:\n",
    "        \n",
    "        if Codigo < CodigoPorAdivinar:\n",
    "            print(f\"Codigo incorrecto, te dare pistas, yo creo que el codigo es mas alto\")\n",
    "        \n",
    "        if Codigo > CodigoPorAdivinar:\n",
    "            print(f\"Codigo incorrecto, te dare pistas, yo creo que el codigo es mas bajo\")\n",
    "\n",
    "\n",
    "if Codigo != CodigoPorAdivinar:\n",
    "            print(f\"Has perdido uwu , el codigo secreto era {CodigoPorAdivinar}\")\n"
   ]
  }
 ],
 "metadata": {
  "kernelspec": {
   "display_name": "Python 3.9.13 ('base')",
   "language": "python",
   "name": "python3"
  },
  "language_info": {
   "codemirror_mode": {
    "name": "ipython",
    "version": 3
   },
   "file_extension": ".py",
   "mimetype": "text/x-python",
   "name": "python",
   "nbconvert_exporter": "python",
   "pygments_lexer": "ipython3",
   "version": "3.9.13 (main, Aug 25 2022, 23:51:50) [MSC v.1916 64 bit (AMD64)]"
  },
  "orig_nbformat": 4,
  "vscode": {
   "interpreter": {
    "hash": "321c287d430dfa74150ad4534669cee99e55d7b4b9f525e749a4a739721854ad"
   }
  }
 },
 "nbformat": 4,
 "nbformat_minor": 2
}
